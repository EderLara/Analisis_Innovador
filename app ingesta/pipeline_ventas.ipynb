{
 "cells": [
  {
   "cell_type": "code",
   "execution_count": null,
   "id": "363c87f8-46d3-4133-b964-7a6905e0e6f8",
   "metadata": {},
   "outputs": [],
   "source": [
    "# 1. IMPORTAR MÓDULOS\n",
    "from extractors import (\n",
    "    MySqlSourceExtractor, OracleExtractor, PostgresExtractor, \n",
    "    SqlServerExtractor, SqliteExtractor\n",
    ")\n",
    "from transformers import standardize_columns, clean_and_cast_data\n",
    "from loaders import MySqlLoader\n",
    "import pandas as pd\n",
    "\n",
    "# Definición de la query genérica para ventas (debes ajustarla a cada BD)\n",
    "VENTAS_QUERY_MYSQL = \"SELECT * FROM ventas_table\" \n",
    "\n",
    "# Lista de extractores y nombres de fuente (para auditoría)\n",
    "extractor_map = {\n",
    "    \"MySQL_Source\": MySqlSourceExtractor(),\n",
    "    \"Oracle_Source\": OracleExtractor(),\n",
    "    \"Postgres_Source\": PostgresExtractor(),\n",
    "    \"SQLServer_Source\": SqlServerExtractor(),\n",
    "    \"SQLite_Source\": SqliteExtractor()\n",
    "}\n",
    "\n",
    "all_consolidated_dfs = []"
   ]
  },
  {
   "cell_type": "code",
   "execution_count": null,
   "id": "7d4129b3-3932-4cd8-8dbb-51e9256b34ee",
   "metadata": {},
   "outputs": [],
   "source": [
    "# 2. PROCESAMIENTO ETL ITERATIVO (OCP)\n",
    "print(\"--- INICIO DEL PIPELINE DE VENTAS (E X T R A C C I Ó N) ---\")\n",
    "\n",
    "for source_name, extractor in extractor_map.items():\n",
    "    print(f\"\\n[PROCESANDO FUENTE: {source_name}]\")\n",
    "    \n",
    "    # E: Extracción (LSP: Se garantiza que cada extractor tiene fetch_data)\n",
    "    df_raw = extractor.fetch_data(VENTAS_QUERY)\n",
    "    \n",
    "    if df_raw.empty:\n",
    "        continue # Si falla la extracción, pasa a la siguiente fuente\n",
    "\n",
    "    # T: Transformación y Estandarización\n",
    "    df_transformed = standardize_columns(df_raw.copy(), source_name)\n",
    "    df_cleaned = clean_and_cast_data(df_transformed)\n",
    "    \n",
    "    # Asignar la fuente para auditoría (Lógica específica del Notebook)\n",
    "    df_cleaned['source_db'] = source_name\n",
    "    \n",
    "    # Almacenar para consolidación\n",
    "    all_consolidated_dfs.append(df_cleaned)\n",
    "    print(f\"-> DataFrame de {source_name} listo para consolidación.\")"
   ]
  },
  {
   "cell_type": "code",
   "execution_count": null,
   "id": "2710b014-5e7f-45dc-bb36-ebb53c480791",
   "metadata": {},
   "outputs": [],
   "source": [
    "# 3. CONSOLIDACIÓN\n",
    "if not all_consolidated_dfs:\n",
    "    print(\"\\nFATAL: No se extrajeron datos de ninguna fuente. Terminando.\")\n",
    "else:\n",
    "    print(\"\\n--- INICIO DE CONSOLIDACIÓN ---\")\n",
    "    df_final = pd.concat(all_consolidated_dfs, ignore_index=True, sort=False)\n",
    "    \n",
    "    # T: Transformación final (ej. manejar valores que faltan tras consolidación)\n",
    "    df_final.fillna(value={'amount': 0.0, 'customer_id': 'N/A'}, inplace=True)\n",
    "    \n",
    "    print(f\"Total de registros a cargar: {len(df_final)}\")\n",
    "    print(\"Columnas finales:\", df_final.columns.tolist())\n",
    "    print(df_final.head())\n",
    "    \n",
    "    # 4. CARGA (L)\n",
    "    print(\"\\n--- INICIO DE CARGA (L O A D) ---\")\n",
    "    mysql_loader = MySqlLoader() # DIP: El notebook usa el Loader sin saber los detalles de conexión\n",
    "    mysql_loader.load_data(df_final, table_name=\"ventas_consolidado\")\n",
    "    \n",
    "    print(\"\\n>>> PIPELINE ETL FINALIZADO EXITOSAMENTE <<<\")"
   ]
  }
 ],
 "metadata": {
  "kernelspec": {
   "display_name": "Python [conda env:base] *",
   "language": "python",
   "name": "conda-base-py"
  },
  "language_info": {
   "codemirror_mode": {
    "name": "ipython",
    "version": 3
   },
   "file_extension": ".py",
   "mimetype": "text/x-python",
   "name": "python",
   "nbconvert_exporter": "python",
   "pygments_lexer": "ipython3",
   "version": "3.12.7"
  }
 },
 "nbformat": 4,
 "nbformat_minor": 5
}
